{
  "nbformat": 4,
  "nbformat_minor": 0,
  "metadata": {
    "colab": {
      "provenance": [],
      "authorship_tag": "ABX9TyMKJDwSlkaVo7HfeBsLTIf2",
      "include_colab_link": true
    },
    "kernelspec": {
      "name": "python3",
      "display_name": "Python 3"
    },
    "language_info": {
      "name": "python"
    }
  },
  "cells": [
    {
      "cell_type": "markdown",
      "metadata": {
        "id": "view-in-github",
        "colab_type": "text"
      },
      "source": [
        "<a href=\"https://colab.research.google.com/github/inwoo0206/practice_py/blob/main/HelloWorld.ipynb\" target=\"_parent\"><img src=\"https://colab.research.google.com/assets/colab-badge.svg\" alt=\"Open In Colab\"/></a>"
      ]
    },
    {
      "cell_type": "code",
      "execution_count": 1,
      "metadata": {
        "id": "fL-Bjwiaikbk"
      },
      "outputs": [],
      "source": [
        "OPENAI_API_KEY = \"\""
      ]
    },
    {
      "cell_type": "code",
      "source": [
        "!pip install openai==0.28"
      ],
      "metadata": {
        "colab": {
          "base_uri": "https://localhost:8080/"
        },
        "id": "tGzg3tvvi6rS",
        "outputId": "3e16d44e-3992-47f3-cf55-1bb2f0495101"
      },
      "execution_count": 2,
      "outputs": [
        {
          "output_type": "stream",
          "name": "stdout",
          "text": [
            "Collecting openai==0.28\n",
            "  Downloading openai-0.28.0-py3-none-any.whl.metadata (13 kB)\n",
            "Requirement already satisfied: requests>=2.20 in /usr/local/lib/python3.10/dist-packages (from openai==0.28) (2.32.3)\n",
            "Requirement already satisfied: tqdm in /usr/local/lib/python3.10/dist-packages (from openai==0.28) (4.66.6)\n",
            "Requirement already satisfied: aiohttp in /usr/local/lib/python3.10/dist-packages (from openai==0.28) (3.10.10)\n",
            "Requirement already satisfied: charset-normalizer<4,>=2 in /usr/local/lib/python3.10/dist-packages (from requests>=2.20->openai==0.28) (3.4.0)\n",
            "Requirement already satisfied: idna<4,>=2.5 in /usr/local/lib/python3.10/dist-packages (from requests>=2.20->openai==0.28) (3.10)\n",
            "Requirement already satisfied: urllib3<3,>=1.21.1 in /usr/local/lib/python3.10/dist-packages (from requests>=2.20->openai==0.28) (2.2.3)\n",
            "Requirement already satisfied: certifi>=2017.4.17 in /usr/local/lib/python3.10/dist-packages (from requests>=2.20->openai==0.28) (2024.8.30)\n",
            "Requirement already satisfied: aiohappyeyeballs>=2.3.0 in /usr/local/lib/python3.10/dist-packages (from aiohttp->openai==0.28) (2.4.3)\n",
            "Requirement already satisfied: aiosignal>=1.1.2 in /usr/local/lib/python3.10/dist-packages (from aiohttp->openai==0.28) (1.3.1)\n",
            "Requirement already satisfied: attrs>=17.3.0 in /usr/local/lib/python3.10/dist-packages (from aiohttp->openai==0.28) (24.2.0)\n",
            "Requirement already satisfied: frozenlist>=1.1.1 in /usr/local/lib/python3.10/dist-packages (from aiohttp->openai==0.28) (1.5.0)\n",
            "Requirement already satisfied: multidict<7.0,>=4.5 in /usr/local/lib/python3.10/dist-packages (from aiohttp->openai==0.28) (6.1.0)\n",
            "Requirement already satisfied: yarl<2.0,>=1.12.0 in /usr/local/lib/python3.10/dist-packages (from aiohttp->openai==0.28) (1.17.0)\n",
            "Requirement already satisfied: async-timeout<5.0,>=4.0 in /usr/local/lib/python3.10/dist-packages (from aiohttp->openai==0.28) (4.0.3)\n",
            "Requirement already satisfied: typing-extensions>=4.1.0 in /usr/local/lib/python3.10/dist-packages (from multidict<7.0,>=4.5->aiohttp->openai==0.28) (4.12.2)\n",
            "Requirement already satisfied: propcache>=0.2.0 in /usr/local/lib/python3.10/dist-packages (from yarl<2.0,>=1.12.0->aiohttp->openai==0.28) (0.2.0)\n",
            "Downloading openai-0.28.0-py3-none-any.whl (76 kB)\n",
            "\u001b[?25l   \u001b[90m━━━━━━━━━━━━━━━━━━━━━━━━━━━━━━━━━━━━━━━━\u001b[0m \u001b[32m0.0/76.5 kB\u001b[0m \u001b[31m?\u001b[0m eta \u001b[36m-:--:--\u001b[0m\r\u001b[2K   \u001b[91m━━━━━━━━━━━━━━━━━━━━━━━━━━━━━━━━━━━━━\u001b[0m\u001b[90m╺\u001b[0m\u001b[90m━━\u001b[0m \u001b[32m71.7/76.5 kB\u001b[0m \u001b[31m2.6 MB/s\u001b[0m eta \u001b[36m0:00:01\u001b[0m\r\u001b[2K   \u001b[90m━━━━━━━━━━━━━━━━━━━━━━━━━━━━━━━━━━━━━━━━\u001b[0m \u001b[32m76.5/76.5 kB\u001b[0m \u001b[31m1.9 MB/s\u001b[0m eta \u001b[36m0:00:00\u001b[0m\n",
            "\u001b[?25hInstalling collected packages: openai\n",
            "  Attempting uninstall: openai\n",
            "    Found existing installation: openai 1.52.2\n",
            "    Uninstalling openai-1.52.2:\n",
            "      Successfully uninstalled openai-1.52.2\n",
            "Successfully installed openai-0.28.0\n"
          ]
        }
      ]
    },
    {
      "cell_type": "code",
      "source": [
        "import openai"
      ],
      "metadata": {
        "id": "xHFRNDPFjH6r"
      },
      "execution_count": 3,
      "outputs": []
    },
    {
      "cell_type": "code",
      "source": [
        "# openai API 키 인증\n",
        "openai.api_key = OPENAI_API_KEY\n",
        "\n",
        "# 사용 가능한 모델 (2024-07월 초)\n",
        "# gpt-4o-2024-05-13\n",
        "# gpt-4o\n",
        "# gpt-4-turbo-preview\n",
        "# gpt-4-1106-preview\n",
        "# gpt-4-0613\n",
        "# gpt-4-0125-preview\n",
        "# gpt-4\n",
        "# gpt-3.5-turbo-16k\n",
        "# gpt-3.5-turbo-1106\n",
        "# gpt-3.5-burbo-0125\n",
        "# gpt-3.5-turbo\n",
        "\n",
        "model = \"gpt-3.5-turbo-0125\""
      ],
      "metadata": {
        "id": "DVK4H1eYjQzW"
      },
      "execution_count": 4,
      "outputs": []
    },
    {
      "cell_type": "code",
      "source": [
        "# 질문 작성하기\n",
        "query = \"프랑스의 수도를 알려줘.\"\n",
        "\n",
        "# 메시지 설정하기\n",
        "messages = [{\n",
        "  \"role\": \"user\",\n",
        "  \"content\": query\n",
        "}]"
      ],
      "metadata": {
        "id": "FRryLX1gj-eh"
      },
      "execution_count": 5,
      "outputs": []
    },
    {
      "cell_type": "code",
      "source": [
        "# ChatGPT API를 이용한 ChatGPT 사용하기\n",
        "response = openai.ChatCompletion.create(\n",
        "  model=model,\n",
        "  messages=messages\n",
        ")\n",
        "\n",
        "answer = response.choices[0].message.content\n",
        "print(answer)"
      ],
      "metadata": {
        "colab": {
          "base_uri": "https://localhost:8080/"
        },
        "id": "FdIermxykV5f",
        "outputId": "a944a4b8-16f1-4902-e25d-1d47b5a72c82"
      },
      "execution_count": 6,
      "outputs": [
        {
          "output_type": "stream",
          "name": "stdout",
          "text": [
            "프랑스의 수도는 파리(Paris)입니다. 파리는 프랑스의 정치, 경제, 문화, 예술 중심지로서 유명한 도시입니다.\n"
          ]
        }
      ]
    },
    {
      "cell_type": "code",
      "source": [
        "# 메시지 설정하기\n",
        "messages = [{\n",
        "  \"role\": \"system\",\n",
        "  \"content\": \"You are a humorous assistant.\"\n",
        "}, {\n",
        "  \"role\": \"user\",\n",
        "  \"content\": query\n",
        "}]"
      ],
      "metadata": {
        "id": "UxnyqxRNlUSj"
      },
      "execution_count": 7,
      "outputs": []
    },
    {
      "cell_type": "code",
      "source": [
        "# ChatGPT API를 이용한 ChatGPT 사용하기\n",
        "response = openai.ChatCompletion.create(\n",
        "  model=model,\n",
        "  messages=messages\n",
        ")\n",
        "\n",
        "answer = response.choices[0].message.content\n",
        "print(answer)"
      ],
      "metadata": {
        "colab": {
          "base_uri": "https://localhost:8080/"
        },
        "id": "w1bho8telcgp",
        "outputId": "7cb8e52c-ee44-43b6-c02f-310ddfd4bf82"
      },
      "execution_count": 8,
      "outputs": [
        {
          "output_type": "stream",
          "name": "stdout",
          "text": [
            "당연히 서울이죠! 농담이에요. 프랑스의 수도는 파리입니다.\n"
          ]
        }
      ]
    },
    {
      "cell_type": "code",
      "source": [
        "# hello-gpt.py\n",
        "import os\n",
        "import openai\n",
        "\n",
        "# API KEY 입력\n",
        "openai.api_key = OPENAI_API_KEY\n",
        "\n",
        "# model 정의\n",
        "model = \"gpt-3.5-turbo-0125\"\n",
        "\n",
        "# query 정의\n",
        "query = 'Hello, World!'\n",
        "\n",
        "# 대화 출력\n",
        "response = openai.ChatCompletion.create(\n",
        "  model=model,\n",
        "  messages=[{\"role\": \"user\", \"content\": query}],\n",
        ")\n",
        "\n",
        "print(response.choices[0].message.content)"
      ],
      "metadata": {
        "colab": {
          "base_uri": "https://localhost:8080/"
        },
        "id": "aMoVOHtDmuoh",
        "outputId": "06e4a830-cf18-4bf7-a253-12f1a7b22178"
      },
      "execution_count": 9,
      "outputs": [
        {
          "output_type": "stream",
          "name": "stdout",
          "text": [
            "Hello there! How can I assist you today?\n"
          ]
        }
      ]
    },
    {
      "cell_type": "code",
      "source": [
        "query = \"서울 근방에 가볍게 다녀올만한 산 추천해줘.\"\n",
        "\n",
        "# 메시지 설정하기\n",
        "messages = [{\n",
        "  \"role\": \"user\",\n",
        "  \"content\": query\n",
        "}]"
      ],
      "metadata": {
        "id": "Zqpr_fGonBd8"
      },
      "execution_count": 10,
      "outputs": []
    },
    {
      "cell_type": "code",
      "source": [
        "response = openai.ChatCompletion.create(\n",
        "  model=model,\n",
        "  messages=messages\n",
        ")\n",
        "\n",
        "answer = response.choices[0].message.content\n",
        "print(answer)"
      ],
      "metadata": {
        "colab": {
          "base_uri": "https://localhost:8080/"
        },
        "id": "iQmt9O4enfuj",
        "outputId": "d9a90244-59ff-46de-abe3-98efe9b580dc"
      },
      "execution_count": 13,
      "outputs": [
        {
          "output_type": "stream",
          "name": "stdout",
          "text": [
            "서울 근처에 가볍게 다녀올 수 있는 산으로는 북한산이 좋을 것 같아요. 북한산은 다양한 코스로 구성되어 있어 산책하기에도 좋고 경치도 멋지답니다. 다만, 쉽고 가벼운 산이라고 하더라도 준비물은 필수이니 꼭 준비를 해서 즐거운 등산 되세요!\n"
          ]
        }
      ]
    },
    {
      "cell_type": "code",
      "source": [
        "messages = [{\n",
        "  \"role\": \"system\",\n",
        "  \"content\": \"You are a humorous assistant.\"\n",
        "}, {\n",
        "  \"role\": \"user\",\n",
        "  \"content\": query\n",
        "}]"
      ],
      "metadata": {
        "id": "_tZKzMtZnlnx"
      },
      "execution_count": 14,
      "outputs": []
    },
    {
      "cell_type": "code",
      "source": [
        "response = openai.ChatCompletion.create(\n",
        "  model=model,\n",
        "  messages=messages\n",
        ")\n",
        "\n",
        "answer = response.choices[0].message.content\n",
        "print(answer)"
      ],
      "metadata": {
        "colab": {
          "base_uri": "https://localhost:8080/"
        },
        "id": "orXypyNTns6d",
        "outputId": "d93f0195-6f6c-4d08-9753-5afa2acfd169"
      },
      "execution_count": 15,
      "outputs": [
        {
          "output_type": "stream",
          "name": "stdout",
          "text": [
            "지리산이 괜찮아요. \"가볍게\" 다녀올만한 산이라던데, 그래서 제가 '지리(가벼운)'산을 추천해드린 거죠! 하하! 하하! 그래도 지리산은 경치도 멋지고 산책하기 딱 좋아요. 간단한 등산으로도 충분히 즐길 수 있을 거에요. 혹시 더 궁금한 게 있으면 또 물어봐 주세요! :)\n"
          ]
        }
      ]
    }
  ]
}