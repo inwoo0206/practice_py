{
  "nbformat": 4,
  "nbformat_minor": 0,
  "metadata": {
    "colab": {
      "provenance": [],
      "gpuType": "T4",
      "authorship_tag": "ABX9TyPEfoOMu3bHOWAOtkLa1qpX",
      "include_colab_link": true
    },
    "kernelspec": {
      "name": "python3",
      "display_name": "Python 3"
    },
    "language_info": {
      "name": "python"
    },
    "accelerator": "GPU"
  },
  "cells": [
    {
      "cell_type": "markdown",
      "metadata": {
        "id": "view-in-github",
        "colab_type": "text"
      },
      "source": [
        "<a href=\"https://colab.research.google.com/github/inwoo0206/practice_py/blob/main/openai_1202.ipynb\" target=\"_parent\"><img src=\"https://colab.research.google.com/assets/colab-badge.svg\" alt=\"Open In Colab\"/></a>"
      ]
    },
    {
      "cell_type": "code",
      "execution_count": 1,
      "metadata": {
        "colab": {
          "base_uri": "https://localhost:8080/"
        },
        "id": "vhzaSs55Bj__",
        "outputId": "46eadf58-2ec8-4389-e8f6-99921da0670e"
      },
      "outputs": [
        {
          "output_type": "stream",
          "name": "stdout",
          "text": [
            "Requirement already satisfied: openai==0.28 in /usr/local/lib/python3.10/dist-packages (0.28.0)\n",
            "Requirement already satisfied: requests>=2.20 in /usr/local/lib/python3.10/dist-packages (from openai==0.28) (2.32.3)\n",
            "Requirement already satisfied: tqdm in /usr/local/lib/python3.10/dist-packages (from openai==0.28) (4.66.6)\n",
            "Requirement already satisfied: aiohttp in /usr/local/lib/python3.10/dist-packages (from openai==0.28) (3.11.2)\n",
            "Requirement already satisfied: charset-normalizer<4,>=2 in /usr/local/lib/python3.10/dist-packages (from requests>=2.20->openai==0.28) (3.4.0)\n",
            "Requirement already satisfied: idna<4,>=2.5 in /usr/local/lib/python3.10/dist-packages (from requests>=2.20->openai==0.28) (3.10)\n",
            "Requirement already satisfied: urllib3<3,>=1.21.1 in /usr/local/lib/python3.10/dist-packages (from requests>=2.20->openai==0.28) (2.2.3)\n",
            "Requirement already satisfied: certifi>=2017.4.17 in /usr/local/lib/python3.10/dist-packages (from requests>=2.20->openai==0.28) (2024.8.30)\n",
            "Requirement already satisfied: aiohappyeyeballs>=2.3.0 in /usr/local/lib/python3.10/dist-packages (from aiohttp->openai==0.28) (2.4.3)\n",
            "Requirement already satisfied: aiosignal>=1.1.2 in /usr/local/lib/python3.10/dist-packages (from aiohttp->openai==0.28) (1.3.1)\n",
            "Requirement already satisfied: attrs>=17.3.0 in /usr/local/lib/python3.10/dist-packages (from aiohttp->openai==0.28) (24.2.0)\n",
            "Requirement already satisfied: frozenlist>=1.1.1 in /usr/local/lib/python3.10/dist-packages (from aiohttp->openai==0.28) (1.5.0)\n",
            "Requirement already satisfied: multidict<7.0,>=4.5 in /usr/local/lib/python3.10/dist-packages (from aiohttp->openai==0.28) (6.1.0)\n",
            "Requirement already satisfied: propcache>=0.2.0 in /usr/local/lib/python3.10/dist-packages (from aiohttp->openai==0.28) (0.2.0)\n",
            "Requirement already satisfied: yarl<2.0,>=1.17.0 in /usr/local/lib/python3.10/dist-packages (from aiohttp->openai==0.28) (1.17.2)\n",
            "Requirement already satisfied: async-timeout<6.0,>=4.0 in /usr/local/lib/python3.10/dist-packages (from aiohttp->openai==0.28) (4.0.3)\n",
            "Requirement already satisfied: typing-extensions>=4.1.0 in /usr/local/lib/python3.10/dist-packages (from multidict<7.0,>=4.5->aiohttp->openai==0.28) (4.12.2)\n"
          ]
        }
      ],
      "source": [
        "pip install openai==0.28"
      ]
    },
    {
      "cell_type": "code",
      "source": [
        "import openai\n",
        "\n",
        "OPENAI_API_KEY = \"\"\n",
        "\n",
        "openai.api_key = OPENAI_API_KEY"
      ],
      "metadata": {
        "id": "yQOBRVyNB3xu"
      },
      "execution_count": 3,
      "outputs": []
    },
    {
      "cell_type": "code",
      "source": [
        "import numpy as np\n",
        "from sklearn.manifold import TSNE\n",
        "import matplotlib.pyplot as plt\n",
        "\n",
        "color_words = [\"red\", \"blue\",\"yellow\",\"green\",\"violet\",\"cyan\",\"black\",\"white\"]"
      ],
      "metadata": {
        "id": "s0zEgaPLB6bP"
      },
      "execution_count": 4,
      "outputs": []
    },
    {
      "source": [
        "import openai\n",
        "import numpy as np\n",
        "\n",
        "OPENAI_API_KEY = \"\"\n",
        "\n",
        "openai.api_key = OPENAI_API_KEY\n",
        "\n",
        "def get_embeddings(words):\n",
        "    response = openai.Embedding.create(\n",
        "        input=words,\n",
        "        model=\"text-embedding-ada-002\"\n",
        "    )\n",
        "    return np.array([data[\"embedding\"] for data in response[\"data\"]])\n",
        "\n",
        "color_words = [\"red\", \"blue\", \"yellow\", \"green\", \"violet\", \"cyan\", \"black\", \"white\"]\n",
        "\n",
        "color_embeddings = get_embeddings(color_words)\n",
        "\n",
        "print(color_embeddings)\n",
        "print(color_embeddings.shape)\n"
      ],
      "cell_type": "code",
      "metadata": {
        "colab": {
          "base_uri": "https://localhost:8080/"
        },
        "id": "8gmfns59FNpz",
        "outputId": "6d0bd801-f584-4aee-e83f-e491bba1433f"
      },
      "execution_count": 2,
      "outputs": [
        {
          "output_type": "stream",
          "name": "stdout",
          "text": [
            "[[ 9.32653347e-06 -2.47681402e-02 -2.38425098e-03 ... -1.35402735e-02\n",
            "  -1.94616374e-02 -2.33412650e-03]\n",
            " [ 5.47496416e-03 -7.48624606e-03  5.67850750e-03 ... -1.05083436e-02\n",
            "  -1.13984132e-02 -6.72727183e-04]\n",
            " [ 7.66185811e-03 -2.49109976e-02  4.49154852e-03 ... -1.49784684e-02\n",
            "  -3.78777320e-03  3.69814131e-03]\n",
            " ...\n",
            " [ 2.15506330e-02 -1.40106883e-02  8.28977302e-03 ... -1.30039742e-02\n",
            "  -4.20737220e-03  6.06198329e-04]\n",
            " [-1.51030822e-02 -3.12157646e-02  8.77943356e-03 ... -7.02627562e-03\n",
            "  -8.10409337e-03 -1.47483572e-02]\n",
            " [ 6.29211031e-03 -2.45711766e-02  2.02813782e-04 ... -2.47656349e-02\n",
            "   2.86999415e-03 -2.11820491e-02]]\n",
            "(8, 1536)\n"
          ]
        }
      ]
    },
    {
      "source": [
        "import openai\n",
        "import numpy as np\n",
        "from sklearn.manifold import TSNE # Import the TSNE class here\n",
        "import matplotlib.pyplot as plt\n",
        "\n",
        "\n",
        "OPENAI_API_KEY = \"\"\n",
        "\n",
        "openai.api_key = OPENAI_API_KEY\n",
        "\n",
        "# Now you can use TSNE\n",
        "tsne = TSNE(n_components=2, random_state=42, perplexity=5)\n",
        "color_embeddings_2d = tsne.fit_transform(color_embeddings)\n",
        "\n",
        "plt.figure(figsize=(10, 6))\n",
        "for i, color in enumerate(color_words):\n",
        "    plt.scatter(color_embeddings_2d[i, 0], color_embeddings_2d[i, 1])\n",
        "    plt.text(color_embeddings_2d[i, 0] + 0.02, color_embeddings_2d[i, 1] + 0.02, color, fontsize=12) # Changed word to color\n",
        "\n",
        "plt.title('2D t-SNE Visualization of Color Embeddings')\n",
        "plt.xlabel('Dimension 1')\n",
        "plt.ylabel('Dimension 2')\n",
        "plt.show()"
      ],
      "cell_type": "code",
      "metadata": {
        "colab": {
          "base_uri": "https://localhost:8080/",
          "height": 422
        },
        "id": "eEpbvMEwG63U",
        "outputId": "d3e3acbd-6c21-4fab-fa84-b06cec63b2ef"
      },
      "execution_count": 5,
      "outputs": [
        {
          "output_type": "display_data",
          "data": {
            "text/plain": [
              "<Figure size 1000x600 with 1 Axes>"
            ],
            "image/png": "[encoded data removed]"
          },
          "metadata": {}
        }
      ]
    },
    {
      "cell_type": "code",
      "source": [
        "import openai\n",
        "import numpy as np\n",
        "from sklearn.metrics.pairwise import cosine_similarity\n",
        "\n",
        "OPENAI_API_KEY = \"\"\n",
        "\n",
        "openai.api_key = OPENAI_API_KEY\n",
        "\n",
        "def get_embeddings(texts, model=\"text-embedding-ada-002\"):\n",
        "    response = openai.Embedding.create(\n",
        "        input=texts,\n",
        "        model=model\n",
        "    )\n",
        "    return np.array([data[\"embedding\"] for data in response[\"data\"]])\n",
        "\n",
        "documents = [\n",
        "    \"The ocean is blue.\",\n",
        "    \"The sun is bright.\",\n",
        "    \"The sky I fell in love with is rarely bule.\"\n",
        "]\n",
        "\n",
        "document_embeddings = get_embeddings(documents)"
      ],
      "metadata": {
        "id": "dFYk3CVuLEp5"
      },
      "execution_count": 6,
      "outputs": []
    },
    {
      "cell_type": "code",
      "source": [
        "def find_most_similar(query, documents, document_embeddings):\n",
        "    query_embedding = get_embeddings([query])[0]\n",
        "    similarities = cosine_similarity([query_embedding], document_embeddings)\n",
        "    most_similar_index = np.argmax(similarities)\n",
        "    return documents[most_similar_index], similarities[0][most_similar_index]\n",
        "\n",
        "query = \"The sky is blue\"\n",
        "most_similar_document, similarity = find_most_similar(query, documents, document_embeddings)\n",
        "print(f\"Query: {query}\")\n",
        "print(f\"Most Similar Document: {most_similar_document}\")\n",
        "print(f\"Similarity: {similarity}\")"
      ],
      "metadata": {
        "colab": {
          "base_uri": "https://localhost:8080/"
        },
        "id": "8NnT42UHLtej",
        "outputId": "d4ea6e48-8e60-47f6-f077-c064f6c74c9c"
      },
      "execution_count": 7,
      "outputs": [
        {
          "output_type": "stream",
          "name": "stdout",
          "text": [
            "Query: The sky is blue\n",
            "Most Similar Document: The ocean is blue.\n",
            "Similarity: 0.9032756723261374\n"
          ]
        }
      ]
    },
    {
      "cell_type": "code",
      "source": [
        "import openai\n",
        "import numpy as np\n",
        "from sklearn.linear_model import LogisticRegression\n",
        "from sklearn.model_selection import train_test_split\n",
        "from sklearn.metrics import accuracy_score\n",
        "\n",
        "OPENAI_API_KEY = \"\"\n",
        "\n",
        "openai.api_key = OPENAI_API_KEY\n"
      ],
      "metadata": {
        "id": "YpowfA21MbQQ"
      },
      "execution_count": 2,
      "outputs": []
    },
    {
      "cell_type": "code",
      "source": [
        "def get_embeddings(texts, model=\"text-embedding-ada-002\"):\n",
        "    response = openai.Embedding.create(\n",
        "        input=texts,\n",
        "        model=model\n",
        "    )\n",
        "    return np.array([data[\"embedding\"] for data in response[\"data\"]])\n",
        "reviews = [\n",
        "    \"I loved this movie! It was fantastic.\",\n",
        "    \"The film was terrible, I hated it.\",\n",
        "    \"What an amazing movie, had a great time watching it.\",\n",
        "    \"The movie was a complete waste of time, very boring.\",\n",
        "    \"Absolutely wonderful! A must-watch.\",\n",
        "    \"Awful film. Will never watch it again.\"\n",
        "]\n",
        "labels = [1,0,1,0,1,0]\n",
        "review_embeddings = get_embeddings(reviews)"
      ],
      "metadata": {
        "id": "x3tgxT83bJ2A"
      },
      "execution_count": 3,
      "outputs": []
    },
    {
      "cell_type": "code",
      "source": [
        "X_train, X_test, y_train, y_test = train_test_split(review_embeddings, labels, test_size=0.2, random_state=42)\n",
        "\n",
        "classifier = LogisticRegression()\n",
        "classifier.fit(X_train, y_train)\n",
        "\n",
        "y_pred = classifier.predict(X_test)\n",
        "\n",
        "accuracy = accuracy_score(y_test, y_pred)\n",
        "print(f\"Accuracy : {accuracy:.2f}\")"
      ],
      "metadata": {
        "colab": {
          "base_uri": "https://localhost:8080/"
        },
        "id": "0shG1efncKTq",
        "outputId": "9683cf74-09da-4dc0-a8c0-30689f5137e8"
      },
      "execution_count": 4,
      "outputs": [
        {
          "output_type": "stream",
          "name": "stdout",
          "text": [
            "Accuracy : 1.00\n"
          ]
        }
      ]
    },
    {
      "cell_type": "code",
      "source": [
        "def classify_review(review):\n",
        "  review_embedding = get_embeddings([review])[0]\n",
        "  prediction = classifier.predict([review_embedding])[0]\n",
        "  return \"Positive\" if prediction == 1 else \"Negative\"\n",
        "\n",
        "new_review = \"The movie was fantastic and very entertaining\"\n",
        "classfication = classify_review(new_review)\n",
        "print(f\"Review: {new_review}\")\n",
        "print(f\"Classification: {classfication}\")"
      ],
      "metadata": {
        "colab": {
          "base_uri": "https://localhost:8080/"
        },
        "id": "4Z4BXr4DcPvH",
        "outputId": "6292db7f-7202-42d7-d717-9cef6315ce9f"
      },
      "execution_count": 6,
      "outputs": [
        {
          "output_type": "stream",
          "name": "stdout",
          "text": [
            "Review: The movie was fantastic and very entertaining\n",
            "Classification: Positive\n"
          ]
        }
      ]
    }
  ]
}